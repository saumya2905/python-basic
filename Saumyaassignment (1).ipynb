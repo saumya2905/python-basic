{
  "nbformat": 4,
  "nbformat_minor": 0,
  "metadata": {
    "colab": {
      "provenance": []
    },
    "kernelspec": {
      "name": "python3",
      "display_name": "Python 3"
    },
    "language_info": {
      "name": "python"
    }
  },
  "cells": [
    {
      "cell_type": "code",
      "execution_count": null,
      "metadata": {
        "id": "umd5opC5Eipe"
      },
      "outputs": [],
      "source": []
    },
    {
      "cell_type": "markdown",
      "source": [
        "# Theory"
      ],
      "metadata": {
        "id": "GPoHWrq3JTZB"
      }
    },
    {
      "cell_type": "markdown",
      "source": [
        "Ques-1- What is python , and why is it popular?\n",
        "Ans- Python is a high level, interpreted, interactive and object-oriented programming language.\n",
        "It is popular because it is easy to learn, read, understand, and maintain. Additionally, Python is cross-platform, equipped with a comprehensive standard  library, highly extensible, and supports datebase connectivity and GUI programming.\n",
        "\n",
        "Question-2 What is an interpreter in python?\n",
        "Ans-A python interpreter is a computer program that converts each high-level program statement into machine code. An interpreter translates the command that we can write out into code that the computer can understand.\n",
        "\n",
        "Question-3 What are pre-defined keywords in python?\n",
        "Answer- Python keywords are special reserved words which convey a special meaning to the compiler/interpreter. Each keyword have a special meaning and a specific operation. These keywords can't be used as variable.\n"
      ],
      "metadata": {
        "id": "UfGoy9x2Euga"
      }
    },
    {
      "cell_type": "code",
      "source": [
        "help('keywords')"
      ],
      "metadata": {
        "colab": {
          "base_uri": "https://localhost:8080/"
        },
        "id": "IzICmUXK5h5U",
        "outputId": "86cc7321-335f-47c7-92ad-0735c6e987ad"
      },
      "execution_count": null,
      "outputs": [
        {
          "output_type": "stream",
          "name": "stdout",
          "text": [
            "\n",
            "Here is a list of the Python keywords.  Enter any keyword to get more help.\n",
            "\n",
            "False               class               from                or\n",
            "None                continue            global              pass\n",
            "True                def                 if                  raise\n",
            "and                 del                 import              return\n",
            "as                  elif                in                  try\n",
            "assert              else                is                  while\n",
            "async               except              lambda              with\n",
            "await               finally             nonlocal            yield\n",
            "break               for                 not                 \n",
            "\n"
          ]
        }
      ]
    },
    {
      "cell_type": "markdown",
      "source": [
        "Question-4 Can Keywords be used as Variable names?\n",
        "Answer- No, keywords cann't be used as variable names in python. Keywords are reserved words that have pre-defined meanings.\n",
        "\n",
        "Question-5 What is mutability in python?\n",
        "Answer- In Python, the ability to make changes to objects after they are created is called mutabilty. Mutable objects, such as lists and dictionaries, can be modified after creation.\n",
        "\n",
        "Question-6 Why are lists mutable, but tuples are immutable?\n",
        "Answer-tuples are immutable, because their contents cannot be changed after creation, while lists are mutable and can be modified. Additionally, tuples are more memory-efficient compared to lists. Tuples can't be changed after they're created, but lists can be modified.\n",
        "\n",
        "Question-7 What is the difference between \"==\" and 'is' operators in python?\n",
        "Answer-The \"==\"  (equality operator) is used to compare the equality of objects. The \"is\" (Identify operator) is used to check if different variables are pointing to the same object in memory. The \"==\" operator is used in Python when the values of the operands are equal. In such a case, the condition is true.\n",
        "Question-8 What is logical operators in python?\n",
        "Answer- In Python, logical operators are used to combine multiple conditions together and evaluate them as a single boolean expression. There are three types of logical operators in Python: and, or, and not.\n",
        "\n",
        "\n",
        "Question-9 What is type casting in python?\n",
        "Answer-  Type Casting is the process of changing one data type to another in python. Python Provides built-in functions for type casting, such as Int(), float(), Str(), List(), Tuple(), dict() etc.\n",
        "\n",
        "Question-10 What is the difference between implicit and explicit type casting?\n",
        "Answer- The main difference between implicit and explicit data is while explicit data is information that people voluntarily provide, implicit data is that which you must infer based on other data. We can collect explicit data through contact forms, reviews, surveys, polls, and signup forms, among other sources. Meanwhile, we will need to make use of multiple data sources to collect implicit data in addition to explicit data.\n",
        "\n",
        "Question-11 What is the purpose of conditional statements in python?\n",
        "Answer- Conditionals Statements in python are used to execute code based on the evaluation of one or more conditions. Conditional Statements can be nested to handle multiple conditions and control different branches of execution based on the outcome of logical exressions.  Python supports conditional statements such as if, elif (else if) and else to control the flow of execution.\n",
        "\n",
        "Question-12 How  does the elif statement work?\n",
        "Answer-Elif condition worked when one condition is not fulfilled, we will do something else. Execute the if block when the condition is true else execute the else block.\n",
        "\n",
        "Question-13 What is the difference between for and while loops?\n",
        "Answer- 'For' loops are used for iterating over a sequence of elements, 'while' loops are used for executing code until a specified condition becomes fales.\n",
        "\n",
        "Question-14 Describe a scenario where a while loop is more suitable than a for loop.\n",
        "Answer-A while loop is more suitable than a for loop when the number of iterations is not known in advance and depends on a certain condition that needs to be checked during each iteration.\n",
        "\n"
      ],
      "metadata": {
        "id": "8Uwc67k150XO"
      }
    },
    {
      "cell_type": "code",
      "source": [
        "# Practial Questions\n"
      ],
      "metadata": {
        "id": "zsX3wEFkJ7fC"
      },
      "execution_count": null,
      "outputs": []
    },
    {
      "cell_type": "code",
      "source": [
        "# Ques-1 Write a python program to print \"Hello, world!\"\n"
      ],
      "metadata": {
        "id": "ex70ZWEjKAIY"
      },
      "execution_count": null,
      "outputs": []
    },
    {
      "cell_type": "code",
      "source": [
        "print(\"Hello, World!\")\n"
      ],
      "metadata": {
        "colab": {
          "base_uri": "https://localhost:8080/"
        },
        "id": "npLBIm5xKU4w",
        "outputId": "b7669f28-5957-4d23-ca18-c4af26611f03"
      },
      "execution_count": null,
      "outputs": [
        {
          "output_type": "stream",
          "name": "stdout",
          "text": [
            "Hello, World!\n"
          ]
        }
      ]
    },
    {
      "cell_type": "code",
      "source": [
        "#Ques-2 Write a python Program that displays your name and age.\n",
        "name=\"saumya  singh\"\n",
        "age=\"21\"\n",
        "print(\"Name:\", name)\n",
        "print(\"Age:\", age)"
      ],
      "metadata": {
        "colab": {
          "base_uri": "https://localhost:8080/"
        },
        "id": "q9gj57HgKqMy",
        "outputId": "56dc5e48-a91e-4e29-d5e0-53053444694e"
      },
      "execution_count": null,
      "outputs": [
        {
          "output_type": "stream",
          "name": "stdout",
          "text": [
            "Name: saumya  singh\n",
            "Age: 21\n"
          ]
        }
      ]
    },
    {
      "cell_type": "code",
      "source": [
        "#Ques-3 Write code to print all the predefined keywords in Python using the keyword library.\n",
        "import keyword\n",
        "keywords = keyword.kwlist\n",
        "print(\"Python keywords are:\")\n",
        "for kw in keywords:\n",
        "    print(kw)\n"
      ],
      "metadata": {
        "colab": {
          "base_uri": "https://localhost:8080/"
        },
        "id": "t32t6v6RMH1X",
        "outputId": "0bf83d2c-e708-40a9-8e62-cb54c63a0134"
      },
      "execution_count": null,
      "outputs": [
        {
          "output_type": "stream",
          "name": "stdout",
          "text": [
            "Python keywords are:\n",
            "False\n",
            "None\n",
            "True\n",
            "and\n",
            "as\n",
            "assert\n",
            "async\n",
            "await\n",
            "break\n",
            "class\n",
            "continue\n",
            "def\n",
            "del\n",
            "elif\n",
            "else\n",
            "except\n",
            "finally\n",
            "for\n",
            "from\n",
            "global\n",
            "if\n",
            "import\n",
            "in\n",
            "is\n",
            "lambda\n",
            "nonlocal\n",
            "not\n",
            "or\n",
            "pass\n",
            "raise\n",
            "return\n",
            "try\n",
            "while\n",
            "with\n",
            "yield\n"
          ]
        }
      ]
    },
    {
      "cell_type": "code",
      "source": [
        "#Ques-4 Write a program that checks if a given word is a Python keyword.\n",
        "import keyword\n",
        "word = input(\"Enter a word to check if it's a Python keyword: \")\n",
        "if keyword.iskeyword(word):\n",
        "    print(f\"'{word}' is a Python keyword.\")\n",
        "else:\n",
        "    print(f\"'{word}' is not a Python keyword.\")"
      ],
      "metadata": {
        "colab": {
          "base_uri": "https://localhost:8080/"
        },
        "id": "sD79tC6_Mrfr",
        "outputId": "45fe3720-b253-434c-8b87-7aa52edf9473"
      },
      "execution_count": null,
      "outputs": [
        {
          "output_type": "stream",
          "name": "stdout",
          "text": [
            "Enter a word to check if it's a Python keyword: pass\n",
            "'pass' is a Python keyword.\n"
          ]
        }
      ]
    },
    {
      "cell_type": "code",
      "source": [
        "#Ques-5  Create a list and tuple in Python, and demonstrate how attempting to change an element works differently for each.\n",
        "my_list = [1, 2, 3]\n",
        "my_tuple = (1, 2, 3)\n",
        "print(\"Original list:\", my_list)\n",
        "my_list[1] = 20\n",
        "print(\"Modified list:\", my_list)\n",
        "print(\"\\nOriginal tuple:\", my_tuple)\n",
        "if isinstance(my_tuple, tuple):\n",
        "    print(\"Error: Cannot modify elements of a tuple.\")\n",
        "else:\n",
        "    my_tuple[1] = 20"
      ],
      "metadata": {
        "colab": {
          "base_uri": "https://localhost:8080/"
        },
        "id": "e3Q9FicjOORJ",
        "outputId": "30e7ecea-1c07-46c9-9332-05b37d4d4f01"
      },
      "execution_count": null,
      "outputs": [
        {
          "output_type": "stream",
          "name": "stdout",
          "text": [
            "Original list: [1, 2, 3]\n",
            "Modified list: [1, 20, 3]\n",
            "\n",
            "Original tuple: (1, 2, 3)\n",
            "Error: Cannot modify elements of a tuple.\n"
          ]
        }
      ]
    },
    {
      "cell_type": "code",
      "source": [
        "#Ques-6&7- Write a function to demonstrate the behavior of mutable and immutable arguments.\n",
        "def modify_values(num, my_list):\n",
        "    num += 10\n",
        "    print(\"Inside function - Immutable argument (num):\", num)\n",
        "    my_list.append(10)\n",
        "    print(\"Inside function - Mutable argument (my_list):\", my_list)\n",
        "immutable_arg = 5\n",
        "mutable_arg = [1, 2, 3]\n",
        "print(\"Before function call:\")\n",
        "print(\"Immutable argument (num):\", immutable_arg)\n",
        "print(\"Mutable argument (my_list):\", mutable_arg)\n",
        "modify_values(immutable_arg, mutable_arg)\n",
        "print(\"\\nAfter function call:\")\n",
        "print(\"Immutable argument (num):\", immutable_arg)\n",
        "print(\"Mutable argument (my_list):\", mutable_arg)"
      ],
      "metadata": {
        "colab": {
          "base_uri": "https://localhost:8080/"
        },
        "id": "FQn7ue_ePaOS",
        "outputId": "ef747482-52dc-40ab-d399-afa0a8695c89"
      },
      "execution_count": null,
      "outputs": [
        {
          "output_type": "stream",
          "name": "stdout",
          "text": [
            "Before function call:\n",
            "Immutable argument (num): 5\n",
            "Mutable argument (my_list): [1, 2, 3]\n",
            "Inside function - Immutable argument (num): 15\n",
            "Inside function - Mutable argument (my_list): [1, 2, 3, 10]\n",
            "\n",
            "After function call:\n",
            "Immutable argument (num): 5\n",
            "Mutable argument (my_list): [1, 2, 3, 10]\n"
          ]
        }
      ]
    },
    {
      "cell_type": "code",
      "source": [
        "#Ques-8 Write a program to demonstrate the use of logical operators.\n",
        "a = True\n",
        "b = False\n",
        "print(\"a and b:\", a and b)\n",
        "print(\"a or b:\", a or b)\n",
        "print(\"not a:\", not a)\n",
        "print(\"not b:\", not b)\n",
        "x = 10\n",
        "y = 20\n",
        "print(\"\\nUsing comparisons with logical operators:\")\n",
        "print(\"x > 5 and y < 30:\", x > 5 and y < 30)\n",
        "print(\"x > 15 or y < 30:\", x > 15 or y < 30)\n",
        "print(\"not (x == 10):\", not (x == 10))"
      ],
      "metadata": {
        "colab": {
          "base_uri": "https://localhost:8080/"
        },
        "id": "RKNhohkdQ_bO",
        "outputId": "91bfc660-657a-43f3-ffe8-408b110c136d"
      },
      "execution_count": null,
      "outputs": [
        {
          "output_type": "stream",
          "name": "stdout",
          "text": [
            "a and b: False\n",
            "a or b: True\n",
            "not a: False\n",
            "not b: True\n",
            "\n",
            "Using comparisons with logical operators:\n",
            "x > 5 and y < 30: True\n",
            "x > 15 or y < 30: True\n",
            "not (x == 10): False\n"
          ]
        }
      ]
    },
    {
      "cell_type": "code",
      "source": [
        "#Ques-9 Write a Python program to convert user input from string to integer, float, and boolean types.\n",
        "user_input = input(\"Enter a value: \")\n",
        "if user_input.isdigit():\n",
        "    int_value = int(user_input)\n",
        "    print(\"Integer value:\", int_value)\n",
        "else:\n",
        "    print(\"Cannot convert to integer.\")\n",
        "if user_input.replace('.', '', 1).isdigit() and user_input.count('.') < 2:\n",
        "    float_value = float(user_input)\n",
        "    print(\"Float value:\", float_value)\n",
        "else:\n",
        "    print(\"Cannot convert to float.\")\n",
        "boolean_value = bool(user_input)\n",
        "print(\"Boolean value:\", boolean_value)"
      ],
      "metadata": {
        "colab": {
          "base_uri": "https://localhost:8080/"
        },
        "id": "DQTgfUXmR7wh",
        "outputId": "778a672c-877f-4857-a6eb-a989330d9133"
      },
      "execution_count": null,
      "outputs": [
        {
          "output_type": "stream",
          "name": "stdout",
          "text": [
            "Enter a value: 23\n",
            "Integer value: 23\n",
            "Float value: 23.0\n",
            "Boolean value: True\n"
          ]
        }
      ]
    },
    {
      "cell_type": "code",
      "source": [
        "#Ques-10 Write a code to demonstrate type casting with list elements\n",
        "my_list = ['10', '20.5', '30', '40.2', '50']\n",
        "int_list = [int(item) if '.' not in item else int(float(item)) for item in my_list]\n",
        "print(\"List with elements converted to integers:\", int_list)\n",
        "float_list = [float(item) for item in my_list]\n",
        "print(\"List with elements converted to floats:\", float_list)\n",
        "bool_list = [bool(item) for item in my_list]\n",
        "print(\"List with elements converted to booleans:\", bool_list)"
      ],
      "metadata": {
        "colab": {
          "base_uri": "https://localhost:8080/"
        },
        "id": "vrZa0F7WVMTk",
        "outputId": "739221b1-2324-4179-b140-b6b91a1a3896"
      },
      "execution_count": null,
      "outputs": [
        {
          "output_type": "stream",
          "name": "stdout",
          "text": [
            "List with elements converted to integers: [10, 20, 30, 40, 50]\n",
            "List with elements converted to floats: [10.0, 20.5, 30.0, 40.2, 50.0]\n",
            "List with elements converted to booleans: [True, True, True, True, True]\n"
          ]
        }
      ]
    },
    {
      "cell_type": "code",
      "source": [
        "#Ques-11 Write a program that checks if a number is positive, negative, or zero.\n",
        "num = float(input(\"Enter a number: \"))\n",
        "if num > 0:\n",
        "    print(f\"The number {num} is positive.\")\n",
        "elif num < 0:\n",
        "    print(f\"The number {num} is negative.\")\n",
        "else:\n",
        "    print(f\"The number {num} is zero.\")"
      ],
      "metadata": {
        "colab": {
          "base_uri": "https://localhost:8080/"
        },
        "id": "Gd4Xf6IpWGA8",
        "outputId": "41414f78-17eb-4fc7-9a00-245325561d7c"
      },
      "execution_count": null,
      "outputs": [
        {
          "output_type": "stream",
          "name": "stdout",
          "text": [
            "Enter a number: 29\n",
            "The number 29.0 is positive.\n"
          ]
        }
      ]
    },
    {
      "cell_type": "code",
      "source": [
        "#Ques-12 Write a for loop to print numbers from 1 to 10.\n",
        "for i in range(1, 11):\n",
        "  print(i)"
      ],
      "metadata": {
        "colab": {
          "base_uri": "https://localhost:8080/"
        },
        "id": "nFWvhGROWp3_",
        "outputId": "bbd9c55f-cf39-4055-8d8f-6244eedbd92d"
      },
      "execution_count": null,
      "outputs": [
        {
          "output_type": "stream",
          "name": "stdout",
          "text": [
            "1\n",
            "2\n",
            "3\n",
            "4\n",
            "5\n",
            "6\n",
            "7\n",
            "8\n",
            "9\n",
            "10\n"
          ]
        }
      ]
    },
    {
      "cell_type": "code",
      "source": [
        "#Ques-13 Write a Python program to find the sum of all even numbers between 1 and 50.\n",
        "sum_even = 0\n",
        "for i in range(1, 51):\n",
        "    if i % 2 == 0:\n",
        "        sum_even += i\n",
        "print(\"The sum of all even numbers between 1 and 50 is:\", sum_even)"
      ],
      "metadata": {
        "colab": {
          "base_uri": "https://localhost:8080/"
        },
        "id": "d5MFrc8QXU79",
        "outputId": "197fd727-3fbe-4bb3-e5b8-1125333385ed"
      },
      "execution_count": null,
      "outputs": [
        {
          "output_type": "stream",
          "name": "stdout",
          "text": [
            "The sum of all even numbers between 1 and 50 is: 650\n"
          ]
        }
      ]
    },
    {
      "cell_type": "code",
      "source": [
        "#Ques-14 Write a program to reverse a string using a while loop.\n",
        "x = input(\"Enter a string: \")\n",
        "reversed_string = \"\"\n",
        "index = len(x) - 1\n",
        "while index >= 0:\n",
        "    reversed_string += x [index]\n",
        "    index -= 1\n",
        "print(\"Reversed string:\", reversed_string)"
      ],
      "metadata": {
        "colab": {
          "base_uri": "https://localhost:8080/"
        },
        "id": "9kICWQUiYSgN",
        "outputId": "445bb3a0-68e7-4908-d752-14eff4ab4ea4"
      },
      "execution_count": null,
      "outputs": [
        {
          "output_type": "stream",
          "name": "stdout",
          "text": [
            "Enter a string: saumya\n",
            "Reversed string: aymuas\n"
          ]
        }
      ]
    },
    {
      "cell_type": "code",
      "source": [
        "#Ques-15 Write a Python program to calculate the factorial of a number provided by the user using a while loop.\n",
        "num = int(input(\"Enter a number: \"))\n",
        "factorial = 1\n",
        "counter = num\n",
        "while counter > 0:\n",
        "    factorial *= counter\n",
        "    counter -= 1\n",
        "print(f\"The factorial of {num} is: {factorial}\")"
      ],
      "metadata": {
        "colab": {
          "base_uri": "https://localhost:8080/"
        },
        "id": "dLjIvPkPZT-u",
        "outputId": "d50e46ed-4ad0-4355-e5df-9c7090287180"
      },
      "execution_count": null,
      "outputs": [
        {
          "output_type": "stream",
          "name": "stdout",
          "text": [
            "Enter a number: 20\n",
            "The factorial of 20 is: 2432902008176640000\n"
          ]
        }
      ]
    }
  ]
}